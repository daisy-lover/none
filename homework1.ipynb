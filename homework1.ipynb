{
 "cells": [
  {
   "cell_type": "code",
   "execution_count": 2,
   "metadata": {},
   "outputs": [
    {
     "name": "stdout",
     "output_type": "stream",
     "text": [
      "★数据科学与工程导论★\n"
     ]
    }
   ],
   "source": [
    "# 使用一个print语句来打印整行内容  \n",
    "print(f\"{chr(0x2605)}数据科学与工程导论{chr(0x2605)}\")"
   ]
  },
  {
   "cell_type": "code",
   "execution_count": 9,
   "metadata": {},
   "outputs": [
    {
     "name": "stdout",
     "output_type": "stream",
     "text": [
      "2 5 7\n"
     ]
    }
   ],
   "source": [
    "x=int(input(\"请输入x\"))\n",
    "y=int(input(\"请输入y\"))\n",
    "z=int(input(\"请输入z\"))\n",
    "if(x<y):\n",
    "    if(y<z):\n",
    "        print(x,y,z)\n",
    "    else:\n",
    "        if(x<z):\n",
    "            print(x,z,y)\n",
    "        else:\n",
    "            print(z,x,y)\n",
    "else:\n",
    "    if(x<z):\n",
    "        print(y,x,z)\n",
    "    else:\n",
    "        if(y<z):\n",
    "            print(y,z,x)\n",
    "        else:\n",
    "            print(z,y,x)"
   ]
  },
  {
   "cell_type": "code",
   "execution_count": 10,
   "metadata": {},
   "outputs": [
    {
     "name": "stdout",
     "output_type": "stream",
     "text": [
      "1 2 5 9\n"
     ]
    }
   ],
   "source": [
    "w=int(input(\"请输入w\"))\n",
    "x=int(input(\"请输入x\"))\n",
    "y=int(input(\"请输入y\"))\n",
    "z=int(input(\"请输入z\"))\n",
    "numbers=[w,x,y,z]\n",
    "numbers.sort()\n",
    "print(numbers[0],numbers[1],numbers[2],numbers[3])"
   ]
  },
  {
   "cell_type": "code",
   "execution_count": 1,
   "metadata": {},
   "outputs": [
    {
     "name": "stdout",
     "output_type": "stream",
     "text": [
      "1\n",
      "3\n",
      "5\n",
      "7\n",
      "9\n",
      "11\n",
      "13\n",
      "15\n",
      "17\n",
      "19\n",
      "21\n",
      "23\n",
      "25\n",
      "27\n",
      "29\n",
      "31\n",
      "33\n",
      "35\n",
      "37\n",
      "39\n",
      "41\n",
      "43\n",
      "45\n",
      "47\n",
      "49\n",
      "51\n",
      "53\n",
      "55\n",
      "57\n",
      "59\n",
      "61\n",
      "63\n",
      "65\n",
      "67\n",
      "69\n",
      "71\n",
      "73\n",
      "75\n",
      "77\n",
      "79\n",
      "81\n",
      "83\n",
      "85\n",
      "87\n",
      "89\n",
      "91\n",
      "93\n",
      "95\n",
      "97\n",
      "99\n"
     ]
    }
   ],
   "source": [
    "for i in range(1,101):\n",
    "    if(i%2==1):\n",
    "        print(i)\n"
   ]
  },
  {
   "cell_type": "code",
   "execution_count": 3,
   "metadata": {},
   "outputs": [
    {
     "name": "stdout",
     "output_type": "stream",
     "text": [
      "5050\n"
     ]
    }
   ],
   "source": [
    "sum=0\n",
    "for i in range(1,101):\n",
    "    sum+=i\n",
    "print(sum)"
   ]
  },
  {
   "cell_type": "code",
   "execution_count": 4,
   "metadata": {},
   "outputs": [
    {
     "name": "stdout",
     "output_type": "stream",
     "text": [
      "5\n",
      "4\n",
      "3\n",
      "2\n",
      "1\n"
     ]
    }
   ],
   "source": [
    "L=[1,2,3,4,5]\n",
    "i=4\n",
    "while(i>=0):\n",
    "        print(L[i])\n",
    "        i=i-1\n"
   ]
  },
  {
   "cell_type": "code",
   "execution_count": 6,
   "metadata": {},
   "outputs": [
    {
     "name": "stdout",
     "output_type": "stream",
     "text": [
      "5\n",
      "4\n",
      "3\n",
      "2\n",
      "1\n"
     ]
    }
   ],
   "source": [
    "L=[1,2,3,4,5]\n",
    "for i in range(len(L)-1,-1,-1):\n",
    "    print(L[i])\n"
   ]
  },
  {
   "cell_type": "code",
   "execution_count": 10,
   "metadata": {},
   "outputs": [
    {
     "name": "stdout",
     "output_type": "stream",
     "text": [
      "True\n"
     ]
    }
   ],
   "source": [
    "def has_consecutive_chars(s):  \n",
    "    i = len(s) - 1  \n",
    "    while i >= 1:  # 注意这里改为i >= 1，以避免索引错误  \n",
    "        if s[i] == s[i-1]:  \n",
    "            return True  \n",
    "        i -= 1  \n",
    "    return False\n",
    "s=input()  \n",
    "print(has_consecutive_chars(s))\n",
    "    \n",
    "\n"
   ]
  },
  {
   "cell_type": "code",
   "execution_count": 11,
   "metadata": {},
   "outputs": [
    {
     "name": "stdout",
     "output_type": "stream",
     "text": [
      "去掉空格后为: DataScienceandEngineering\n"
     ]
    }
   ],
   "source": [
    "S = input(\"请输入一个字符串: \")   \n",
    "no_space_S = S.replace(\" \", \"\")  \n",
    "print(\"去掉空格后为:\", no_space_S)"
   ]
  },
  {
   "cell_type": "code",
   "execution_count": 14,
   "metadata": {},
   "outputs": [
    {
     "name": "stdout",
     "output_type": "stream",
     "text": [
      "1.2599218605659261\n"
     ]
    }
   ],
   "source": [
    "def cube_root(num):\n",
    "    x=num\n",
    "    error=1e-5\n",
    "    while(abs(num-x*x*x)>error):\n",
    "        x=(2*x+num/(x*x))/3\n",
    "    return x\n",
    "print(cube_root(2))\n",
    "\n",
    "    "
   ]
  },
  {
   "cell_type": "code",
   "execution_count": 19,
   "metadata": {},
   "outputs": [
    {
     "name": "stdout",
     "output_type": "stream",
     "text": [
      "120\n"
     ]
    }
   ],
   "source": [
    "n=int(input(\"请输入一个整数\"))\n",
    "i=n\n",
    "answer=1\n",
    "while(i>=1):\n",
    "    answer*=i\n",
    "    i=i-1\n",
    "print(answer)"
   ]
  }
 ],
 "metadata": {
  "kernelspec": {
   "display_name": "Python 3",
   "language": "python",
   "name": "python3"
  },
  "language_info": {
   "codemirror_mode": {
    "name": "ipython",
    "version": 3
   },
   "file_extension": ".py",
   "mimetype": "text/x-python",
   "name": "python",
   "nbconvert_exporter": "python",
   "pygments_lexer": "ipython3",
   "version": "3.9.7"
  }
 },
 "nbformat": 4,
 "nbformat_minor": 2
}
