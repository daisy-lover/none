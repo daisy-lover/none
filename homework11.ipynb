{
 "cells": [
  {
   "cell_type": "markdown",
   "id": "b6d7f4c0",
   "metadata": {},
   "source": [
    "支持向量机和决策树模型相对较优"
   ]
  },
  {
   "cell_type": "code",
   "execution_count": 3,
   "id": "fd6c16ea",
   "metadata": {},
   "outputs": [
    {
     "name": "stdout",
     "output_type": "stream",
     "text": [
      "最优参数： {'C': 1, 'gamma': 0.1, 'kernel': 'rbf'}\n",
      "测试集上的F1值： 0.8632411067193676\n"
     ]
    }
   ],
   "source": [
    "import pandas as pd\n",
    "import numpy as np\n",
    "from sklearn.model_selection import train_test_split, GridSearchCV, StratifiedKFold\n",
    "from sklearn.svm import SVC\n",
    "from sklearn.preprocessing import StandardScaler\n",
    "from sklearn.impute import SimpleImputer\n",
    "from sklearn.metrics import f1_score\n",
    "\n",
    "# 加载数据\n",
    "data_path = 'E:\\\\C\\\\数据工程\\\\fraudulent.csv'\n",
    "df = pd.read_csv(data_path)\n",
    "\n",
    "# 处理缺失值：使用众数填充\n",
    "imputer = SimpleImputer(strategy='most_frequent')\n",
    "df_imputed = pd.DataFrame(imputer.fit_transform(df), columns=df.columns)\n",
    "\n",
    "# 划分特征和目标变量\n",
    "X = df_imputed.drop('y', axis=1)\n",
    "y = df_imputed['y']\n",
    "\n",
    "# 划分训练集和测试集（随机种子设置为1）\n",
    "X_train, X_test, y_train, y_test = train_test_split(X, y, test_size=0.2, random_state=1)\n",
    "\n",
    "# 特征缩放\n",
    "scaler = StandardScaler()\n",
    "X_train_scaled = scaler.fit_transform(X_train)\n",
    "X_test_scaled = scaler.transform(X_test)\n",
    "\n",
    "# 定义SVM模型和参数网格\n",
    "svm = SVC(probability=True)\n",
    "param_grid = {\n",
    "    'C': [0.1, 1, 10, 100],\n",
    "    'gamma': [1, 0.1, 0.01, 0.001],\n",
    "    'kernel': ['rbf']\n",
    "}\n",
    "\n",
    "# 交叉验证探索最优参数\n",
    "cv = StratifiedKFold(n_splits=5, shuffle=True, random_state=1)\n",
    "grid_search = GridSearchCV(svm, param_grid, cv=cv, scoring='f1', n_jobs=-1)\n",
    "grid_search.fit(X_train_scaled, y_train)\n",
    "\n",
    "# 输出最优参数\n",
    "print(\"最优参数：\", grid_search.best_params_)\n",
    "\n",
    "# 使用最优参数训练模型\n",
    "best_svm = grid_search.best_estimator_\n",
    "\n",
    "# 在测试集上评估模型\n",
    "y_pred = best_svm.predict(X_test_scaled)\n",
    "f1 = f1_score(y_test, y_pred)\n",
    "print(\"测试集上的F1值：\", f1)"
   ]
  },
  {
   "cell_type": "code",
   "execution_count": 4,
   "id": "eac47257",
   "metadata": {},
   "outputs": [
    {
     "name": "stdout",
     "output_type": "stream",
     "text": [
      "最优参数: {'criterion': 'entropy', 'max_depth': None, 'min_samples_leaf': 1, 'min_samples_split': 2}\n",
      "测试集F1值: 0.8660287081339713\n"
     ]
    }
   ],
   "source": [
    "import pandas as pd\n",
    "import numpy as np\n",
    "from sklearn.model_selection import train_test_split, GridSearchCV, StratifiedKFold\n",
    "from sklearn.tree import DecisionTreeClassifier\n",
    "from sklearn.metrics import f1_score\n",
    "from sklearn.impute import SimpleImputer\n",
    "\n",
    "# 1. 加载数据\n",
    "data = pd.read_csv('E:\\\\C\\\\数据工程\\\\fraudulent.csv')\n",
    "\n",
    "# 2. 处理缺失值\n",
    "# 计算每个特征的众数\n",
    "mode_values = data.mode().iloc[0]\n",
    "\n",
    "# 使用SimpleImputer进行众数填充\n",
    "imputer = SimpleImputer(strategy='most_frequent', fill_value=mode_values)\n",
    "data_imputed = pd.DataFrame(imputer.fit_transform(data), columns=data.columns)\n",
    "\n",
    "# 3. 划分数据集\n",
    "X = data_imputed.drop('y', axis=1)\n",
    "y = data_imputed['y']\n",
    "\n",
    "X_train, X_test, y_train, y_test = train_test_split(X, y, test_size=0.2, random_state=1)\n",
    "\n",
    "# 4. 建立模型并通过交叉验证探索最优参数\n",
    "param_grid = {\n",
    "    'criterion': ['gini', 'entropy'],\n",
    "    'max_depth': [None, 10, 20, 30, 40, 50],\n",
    "    'min_samples_split': [2, 5, 10],\n",
    "    'min_samples_leaf': [1, 2, 4]\n",
    "}\n",
    "\n",
    "cv = StratifiedKFold(n_splits=5, shuffle=True, random_state=1)\n",
    "grid_search = GridSearchCV(DecisionTreeClassifier(random_state=1), param_grid, cv=cv, scoring='f1', n_jobs=-1)\n",
    "grid_search.fit(X_train, y_train)\n",
    "\n",
    "# 输出最优参数\n",
    "print(\"最优参数:\", grid_search.best_params_)\n",
    "\n",
    "# 5. 训练模型\n",
    "best_model = grid_search.best_estimator_\n",
    "\n",
    "# 6. 评估模型\n",
    "y_pred = best_model.predict(X_test)\n",
    "f1 = f1_score(y_test, y_pred)\n",
    "print(\"测试集F1值:\", f1)"
   ]
  }
 ],
 "metadata": {
  "kernelspec": {
   "display_name": "Python 3 (ipykernel)",
   "language": "python",
   "name": "python3"
  },
  "language_info": {
   "codemirror_mode": {
    "name": "ipython",
    "version": 3
   },
   "file_extension": ".py",
   "mimetype": "text/x-python",
   "name": "python",
   "nbconvert_exporter": "python",
   "pygments_lexer": "ipython3",
   "version": "3.11.5"
  }
 },
 "nbformat": 4,
 "nbformat_minor": 5
}
