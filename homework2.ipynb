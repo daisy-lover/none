{
 "cells": [
  {
   "cell_type": "code",
   "execution_count": 7,
   "metadata": {},
   "outputs": [
    {
     "name": "stdout",
     "output_type": "stream",
     "text": [
      "5\n"
     ]
    }
   ],
   "source": [
    "a=int(input(\"请输入第一个数: \"))\n",
    "b=int(input(\"请输入第二个数: \"))\n",
    "c=a%b\n",
    "while c!=0:\n",
    "  a=b\n",
    "  b=c\n",
    "  c=a%b\n",
    "print(b)"
   ]
  },
  {
   "cell_type": "code",
   "execution_count": 10,
   "metadata": {},
   "outputs": [
    {
     "name": "stdout",
     "output_type": "stream",
     "text": [
      "优秀\n"
     ]
    }
   ],
   "source": [
    "grade=int (input(\"请输入你的成绩：\"))\n",
    "if grade<60:\n",
    "    print(\"不合格\")\n",
    "elif grade>=60 and grade<75:\n",
    "    print(\"合格\")\n",
    "elif grade>=75 and grade<90:\n",
    "    print(\"良好\")\n",
    "else:\n",
    "    print(\"优秀\")"
   ]
  },
  {
   "cell_type": "code",
   "execution_count": 28,
   "metadata": {},
   "outputs": [
    {
     "name": "stdout",
     "output_type": "stream",
     "text": [
      "1100.001\n"
     ]
    }
   ],
   "source": [
    "a=float(input(\"请输入一个小数：\"))\n",
    "b=int(a)\n",
    "c=a%1\n",
    "Z=''\n",
    "while(b!=0):\n",
    "    d=b%2\n",
    "    if(d==0):\n",
    "        Z+='0'\n",
    "    else:\n",
    "        Z+='1'\n",
    "    b=b//2\n",
    "X=''\n",
    "while(c!=0):\n",
    "    e=c*2\n",
    "    f=int(e)\n",
    "    if(f==0):\n",
    "        X+='0'\n",
    "    else:\n",
    "        X+='1'\n",
    "    c=(c*2)%1\n",
    "J=Z[::-1]+'.'+X\n",
    "print(J)"
   ]
  },
  {
   "cell_type": "code",
   "execution_count": 29,
   "metadata": {},
   "outputs": [
    {
     "name": "stdout",
     "output_type": "stream",
     "text": [
      "19.57806456522949\n"
     ]
    }
   ],
   "source": [
    "import random  \n",
    "random_float = random.uniform(10, 20)  \n",
    "print(random_float)"
   ]
  },
  {
   "cell_type": "code",
   "execution_count": 35,
   "metadata": {},
   "outputs": [
    {
     "name": "stdout",
     "output_type": "stream",
     "text": [
      "no\n"
     ]
    }
   ],
   "source": [
    "def palindrome(x):\n",
    "    y=0\n",
    "    s=x\n",
    "    while(s!=0):\n",
    "        y=y*10+s%10\n",
    "        s=s//10\n",
    "    if(y==x):\n",
    "        print(\"yes\")\n",
    "    else:\n",
    "        print(\"no\")\n",
    "a=int(input(\"请输入一个整数：\"))\n",
    "palindrome(a)\n",
    "\n",
    "\n"
   ]
  },
  {
   "cell_type": "code",
   "execution_count": 48,
   "metadata": {},
   "outputs": [
    {
     "name": "stdout",
     "output_type": "stream",
     "text": [
      "[0, 1, 1, 2, 3, 5, 8, 13, 21, 34]\n"
     ]
    }
   ],
   "source": [
    "def Fibonacci(N):\n",
    "    a=0\n",
    "    b=1\n",
    "    if(N>2):\n",
    "      count=2\n",
    "      S=[0]*N\n",
    "      S[0]=0\n",
    "      S[1]=1\n",
    "      while(count<N):\n",
    "          c=a+b\n",
    "          S[count]=c\n",
    "          a=b\n",
    "          b=c\n",
    "          count+=1\n",
    "    elif(N==1):\n",
    "       S=[0]\n",
    "    else:\n",
    "       S=[0,1]\n",
    "    print(S)\n",
    "a=int(input(\"请输入一个整数:\"))\n",
    "Fibonacci(a)\n",
    "\n",
    "\n"
   ]
  },
  {
   "cell_type": "code",
   "execution_count": 4,
   "metadata": {},
   "outputs": [
    {
     "name": "stdout",
     "output_type": "stream",
     "text": [
      "4\n"
     ]
    }
   ],
   "source": [
    "a = input(\"请输入整数数组，用空格分隔: \")  \n",
    "x = list(map(int, a.split()))  \n",
    "b=len(x)\n",
    "for i in range(0,b):\n",
    "    for j in range(i+1,b):\n",
    "        if(x[i]>x[j]):\n",
    "            temp=x[i]\n",
    "            x[i]=x[j]\n",
    "            x[j]=temp\n",
    "print(x[1])"
   ]
  },
  {
   "cell_type": "code",
   "execution_count": 7,
   "metadata": {},
   "outputs": [
    {
     "data": {
      "text/plain": [
       "False"
      ]
     },
     "execution_count": 7,
     "metadata": {},
     "output_type": "execute_result"
    }
   ],
   "source": [
    "import re  \n",
    "  \n",
    "def validate_id_card(id_card):  \n",
    "    # 定义正则表达式模式  \n",
    "    pattern = r'^[1-9]\\d{5}(19|20)\\d{2}(0[1-9]|1[0-2])(0[1-9]|[1-2]\\d|3[0-1])\\d{3}(\\d|X|x)$'  \n",
    "      \n",
    "    # 使用re.match来检查身份证号是否与模式匹配  \n",
    "    if re.match(pattern, id_card):  \n",
    "        return True  \n",
    "    else:  \n",
    "        return False\n",
    "x=input(\"请输入身份证号：\")\n",
    "validate_id_card(x) "
   ]
  }
 ],
 "metadata": {
  "kernelspec": {
   "display_name": "Python 3",
   "language": "python",
   "name": "python3"
  },
  "language_info": {
   "codemirror_mode": {
    "name": "ipython",
    "version": 3
   },
   "file_extension": ".py",
   "mimetype": "text/x-python",
   "name": "python",
   "nbconvert_exporter": "python",
   "pygments_lexer": "ipython3",
   "version": "3.9.7"
  }
 },
 "nbformat": 4,
 "nbformat_minor": 2
}
